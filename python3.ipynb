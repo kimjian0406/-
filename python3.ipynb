{
  "nbformat": 4,
  "nbformat_minor": 0,
  "metadata": {
    "colab": {
      "provenance": [],
      "authorship_tag": "ABX9TyMChZ+qr5n8UjjiEBKkSQk9",
      "include_colab_link": true
    },
    "kernelspec": {
      "name": "python3",
      "display_name": "Python 3"
    },
    "language_info": {
      "name": "python"
    }
  },
  "cells": [
    {
      "cell_type": "markdown",
      "metadata": {
        "id": "view-in-github",
        "colab_type": "text"
      },
      "source": [
        "<a href=\"https://colab.research.google.com/github/kimjian0406/-/blob/main/python3.ipynb\" target=\"_parent\"><img src=\"https://colab.research.google.com/assets/colab-badge.svg\" alt=\"Open In Colab\"/></a>"
      ]
    },
    {
      "cell_type": "markdown",
      "source": [
        "안녕하세요.<br><br>\n",
        "수강생 여러분~! Chapter05 ~ 08 수업은 잘 들으셨나요?\n",
        "\n",
        "Chapter05 ~ 08의 수업 내용을 바탕으로 아래 문제를 풀어주시면 됩니다.\n",
        "\n",
        "<br>\n",
        "\n",
        "\n",
        "[**답변 입력 방법**]\n",
        "\n",
        "문제 아래에 있는 코드 입력창에 정답코드를 작성하신 후  __▷ 버튼을 클릭해 코드를 실행__ 해보세요<br>"
      ],
      "metadata": {
        "id": "mho4V7jgrsn4"
      }
    },
    {
      "cell_type": "markdown",
      "source": [
        "__[문제0]__\n",
        "<br>\n",
        "\n",
        "##### 이전 과제에서 \"도전! 신비의 섬 탐험\" 을 변수를 이용해서 다시 풀어보세요 !!!!!\n",
        "\n"
      ],
      "metadata": {
        "id": "lZMtvd-XrySm"
      }
    },
    {
      "cell_type": "markdown",
      "source": [
        "__[문제1]__\n",
        "\n",
        "<br>\n",
        "변수명 게임에 들어 있는 값 중 '홀'만 출력되도록 코드를 작성해 주세요\n",
        "\n",
        "game = \"홀짝홀짝홀짝\"\n",
        "\n",
        "출력 예시 : \"홀홀홀\"\n"
      ],
      "metadata": {
        "id": "XmctOdy1r2Kv"
      }
    },
    {
      "cell_type": "code",
      "source": [
        "# [start:endbefore:step]\n",
        "game = \"홀짝홀짝홀짝\"\n",
        "print(game[::2])"
      ],
      "metadata": {
        "colab": {
          "base_uri": "https://localhost:8080/"
        },
        "id": "IR3v5C93r59q",
        "outputId": "a4490d1a-4afe-4af6-9275-130209cb8ca4"
      },
      "execution_count": 1,
      "outputs": [
        {
          "output_type": "stream",
          "name": "stdout",
          "text": [
            "홀홀홀\n"
          ]
        }
      ]
    },
    {
      "cell_type": "markdown",
      "source": [
        "__[문제2]__\n",
        "\n",
        "<br>\n",
        "\n",
        "변수명 전화번호에 들어 있는 번호를 모두 붙여서 출력되도록 코드를 작성해주세요.\n",
        "\n",
        "<br>\n",
        "\n",
        "phone = \"010-1234-5678\"\n",
        "\n",
        "출력 예시 : \"01012345678\"\n",
        "__Tips__\n",
        "- split() 함수는 문자열을 특정 구분자를 기준으로 나누어 리스트로 반환합니다."
      ],
      "metadata": {
        "id": "hMV8Y0OosUH6"
      }
    },
    {
      "cell_type": "code",
      "source": [
        "phone = \"010-1234-5678\"\n",
        "print(\"\".join(phone.split(\"-\")))"
      ],
      "metadata": {
        "colab": {
          "base_uri": "https://localhost:8080/"
        },
        "id": "4o9RAQSfsZ3W",
        "outputId": "d104f121-4f24-4a9b-a4f0-ee4bdad92df2"
      },
      "execution_count": 2,
      "outputs": [
        {
          "output_type": "stream",
          "name": "stdout",
          "text": [
            "01012345678\n"
          ]
        }
      ]
    },
    {
      "cell_type": "markdown",
      "source": [],
      "metadata": {
        "id": "_53W5i3QssfS"
      }
    },
    {
      "cell_type": "markdown",
      "source": [
        "<br>\n",
        "\n",
        "__[문제3]__\n",
        "\n",
        "<br>\n",
        "\n",
        "오즈 코딩 스쿨 백엔드 8기 과정에 참여한 수강생 중 5명의 수강생이 자율적으로 스터디 그룹을 결성했습니다.\n",
        "\n",
        "스터디 그룹 내에는 한 주간 배운 내용으로 매주 쪽지 시험을 보는 룰이 있습니다.\n",
        "\n",
        "이 쪽지 시험의 평균이 70점이 넘으면 주말 스터디는 없습니다.\n",
        "\n",
        "주말 스터디의 여부를 True 또는 False로 출력해주세요.\n",
        "\n",
        "<br>\n",
        "A: 70, B: 75, C: 50, D: 80, E: 60\n",
        "\n",
        "<br>"
      ],
      "metadata": {
        "id": "glr1Cg_Wssgk"
      }
    },
    {
      "cell_type": "code",
      "source": [
        "score = (70, 75, 50, 80, 60)\n",
        "print((sum(score) / 5) > 70)"
      ],
      "metadata": {
        "colab": {
          "base_uri": "https://localhost:8080/"
        },
        "id": "Kh-KDbdrsvZZ",
        "outputId": "827dc634-d542-4666-ad09-99f5d079b1d1"
      },
      "execution_count": 3,
      "outputs": [
        {
          "output_type": "stream",
          "name": "stdout",
          "text": [
            "False\n"
          ]
        }
      ]
    },
    {
      "cell_type": "markdown",
      "source": [
        "__[문제4]__\n",
        "\n",
        "<br>\n",
        "\n",
        "창의성, 시장성, 안정성, 수익성에 대한 각각의 평가 중 아래 기준에 부합하지 못하면 창업지원을 받을 수 없습니다.\n",
        "\n",
        "- 수익성 60점 이상\n",
        "- 창의성과 시장성 50점 이상\n",
        "- 시장성과 수익성을 더한 값의 절반이 안정성 보다 높아야 함\n",
        "\n",
        "\n",
        "다음 점수가 입력되었을때 창업 지원이 가능한지 여부를 True 또는 False로 출력해주세요.\n",
        "\n",
        "---\n",
        "\n",
        "창의성 : 62\n",
        "시장성 : 71\n",
        "안정성 : 68\n",
        "수익성 : 66\n",
        "<br>\n",
        "\n",
        "* 참고\n",
        "(creativity ,\n",
        "marketability ,\n",
        "stability ,\n",
        "profitability )"
      ],
      "metadata": {
        "id": "PVFbTLzQsycS"
      }
    },
    {
      "cell_type": "code",
      "source": [
        "creativity = 62\n",
        "marketability = 71\n",
        "stability = 68\n",
        "profitability = 66\n",
        "print(profitability >= 60 and creativity >= 50 and ((marketability + profitability) / 2) > stability)"
      ],
      "metadata": {
        "colab": {
          "base_uri": "https://localhost:8080/"
        },
        "id": "t9Fh-VBws0ts",
        "outputId": "a34d1274-8624-4e5b-cd89-7164741deec0"
      },
      "execution_count": 4,
      "outputs": [
        {
          "output_type": "stream",
          "name": "stdout",
          "text": [
            "True\n"
          ]
        }
      ]
    },
    {
      "cell_type": "markdown",
      "source": [
        "## 모험가들의 레벨업 도전\n",
        "\n",
        "### [배경 이야기]\n",
        "\n",
        "당신은 마법사, 전사, 도적, 힐러 네 명의 모험가를 이끄는 리더입니다.\n",
        "\n",
        "각 캐릭터는 힘, 민첩, 지능, 체력이라는 능력치를 가지고 있습니다. 이 능력치들을 이용해 다양한 도전을 해결하고 사냥을 통해 경험치를 얻어 레벨업을 해야 합니다.\n",
        "\n",
        "<br>\n",
        "\n",
        "### [동료 캐릭터와 능력치 정보]\n",
        "\n",
        "마법사: 힘(10), 민첩(20), 지능(80), 체력(50)\n",
        "\n",
        "전사: 힘(80), 민첩(30), 지능(20), 체력(100)\n",
        "\n",
        "도적: 힘(40), 민첩(80), 지능(30), 체력(60)\n",
        "\n",
        "힐러: 힘(20), 민첩(40), 지능(70), 체력(70)\n",
        "\n",
        "<br>\n",
        "\n",
        "* 변수명을 영어로 변경해서 풀어보세요 !\n",
        "\n",
        "<br>\n",
        "\n",
        "__[문제 1: 첫 번째 사냥]__\n",
        "\n",
        "마법사는 몬스터를 사냥하기 위해 마법을 사용합니다.\n",
        "\n",
        "마법을 사용하려면 지능이 50 이상이어야 합니다.\n",
        "\n",
        "마법사의 지능이 50 이상인지 확인하세요."
      ],
      "metadata": {
        "id": "IuB1VWtys89d"
      }
    },
    {
      "cell_type": "code",
      "source": [
        "mage = {\"str\": 10, \"dex\": 20, \"int\": 80, \"con\": 50}\n",
        "print(mage[\"int\"] >= 50)"
      ],
      "metadata": {
        "colab": {
          "base_uri": "https://localhost:8080/"
        },
        "id": "q8xLYpMntFQQ",
        "outputId": "57beaf0d-9303-4c42-b639-9862c571ed8e"
      },
      "execution_count": 5,
      "outputs": [
        {
          "output_type": "stream",
          "name": "stdout",
          "text": [
            "True\n"
          ]
        }
      ]
    },
    {
      "cell_type": "markdown",
      "source": [
        "<br>\n",
        "\n",
        "__[문제 2: 두 번째 사냥]__\n",
        "\n",
        "전사는 강력한 공격을 하기 위해 자신의 힘을 사용합니다.\n",
        "\n",
        "전사의 힘이 60 이상이고 체력이 80 이상인지 확인하세요."
      ],
      "metadata": {
        "id": "HqWWzG3ZtKm6"
      }
    },
    {
      "cell_type": "code",
      "source": [
        "warrior = {\"str\": 80, \"dex\": 30, \"int\": 20, \"con\": 100}\n",
        "print(warrior[\"str\" >= 60 and warrior[\"con\"] >= 80])"
      ],
      "metadata": {
        "id": "w6dbUy12uvgz"
      },
      "execution_count": null,
      "outputs": []
    },
    {
      "cell_type": "markdown",
      "source": [
        "<br>\n",
        "\n",
        "__[문제 3: 세 번째 사냥]__\n",
        "\n",
        "도적은 민첩함을 이용해 몬스터를 회피하고 공격합니다.\n",
        "\n",
        "도적의 민첩이 70 이상이거나 힘이 50 이상인지 확인하세요."
      ],
      "metadata": {
        "id": "0uhustaYuxy2"
      }
    },
    {
      "cell_type": "code",
      "source": [
        "rogue = {\"str\": 40, \"dex\": 80, \"int\": 30, \"con\": 60}\n",
        "print(rogue[\"dex\" >= 70 or rogue[\"str\"] >= 50])"
      ],
      "metadata": {
        "id": "Ao9ADhJzu1hm"
      },
      "execution_count": null,
      "outputs": []
    },
    {
      "cell_type": "markdown",
      "source": [
        "<br>\n",
        "\n",
        "__[문제 5: 레벨업]__\n",
        "\n",
        "모든 캐릭터가 사냥을 성공적으로 마쳤습니다. 이제 경험치를 얻어 레벨업을 해야 합니다.\n",
        "\n",
        "\n",
        "각 캐릭터의 경험치가 100 이상인지 print()를 이용해 확인해주세요.\n",
        "\n",
        "<br>\n",
        "\n",
        "경험치는 아래와 같습니다.\n",
        "\n",
        "마법사: 120\n",
        "\n",
        "전사: 150\n",
        "\n",
        "도적: 110\n",
        "\n",
        "힐러: 90\n",
        "\n"
      ],
      "metadata": {
        "id": "B4tnuMebu4QI"
      }
    },
    {
      "cell_type": "code",
      "source": [
        "exp = {\"mage\": 120, \"warrior\": 150, \"rogue\": 110, \"healer\": 90}\n",
        "for u in tuple(exp.items()):\n",
        "\tprint(f\"{u[0]}의 경험치는 {u[1]}입니다. 레벨업에 {\"성공\" if u[1] >= 100 else \"실패\"}했습니다.\")"
      ],
      "metadata": {
        "id": "vat68cNSvDmp"
      },
      "execution_count": null,
      "outputs": []
    }
  ]
}