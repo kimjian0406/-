{
  "nbformat": 4,
  "nbformat_minor": 0,
  "metadata": {
    "colab": {
      "provenance": [],
      "authorship_tag": "ABX9TyM+CVCGnNi82235mcRSAevg",
      "include_colab_link": true
    },
    "kernelspec": {
      "name": "python3",
      "display_name": "Python 3"
    },
    "language_info": {
      "name": "python"
    }
  },
  "cells": [
    {
      "cell_type": "markdown",
      "metadata": {
        "id": "view-in-github",
        "colab_type": "text"
      },
      "source": [
        "<a href=\"https://colab.research.google.com/github/kimjian0406/-/blob/main/%EA%B3%BC%EC%A0%9C_%EB%A7%88%EC%A7%80%EB%A7%89_.ipynb\" target=\"_parent\"><img src=\"https://colab.research.google.com/assets/colab-badge.svg\" alt=\"Open In Colab\"/></a>"
      ]
    },
    {
      "cell_type": "markdown",
      "source": [
        "<span style=\"font-size:80%\">[문제1]<br><br></span>\n",
        "```비교 연산자의 결과로 올바르지 않은 것을 골라주세요```\n",
        "\n",
        "1. 8 == 2 * 4&emsp;&emsp;결과 : True\n",
        "2. 4 != 2 + 2&emsp;&emsp;결과 : False\n",
        "3. 2 * 3 is 3 + 3&emsp;&emsp;결과 : True\n",
        "4. 8 is 4 * 2.0&emsp;&emsp;결과 : True\n",
        "5. 5 is 6 - 1.1&emsp;&emsp;결과 : False"
      ],
      "metadata": {
        "id": "AH0-rTbVtyq-"
      }
    },
    {
      "cell_type": "markdown",
      "source": [
        "4\n",
        "8 is 8.0 => 8.0과 8은 다른 객체입니다."
      ],
      "metadata": {
        "id": "IyQUK5Ymt649"
      }
    },
    {
      "cell_type": "markdown",
      "source": [
        "<span style=\"font-size:80%\">[문제2]<br><br></span>\n",
        "```\"x는 5와 같지 않다\"라는 뜻과 동일한 것을 골라주세요```\n",
        "\n",
        "1. x <= 5\n",
        "2. x != 5\n",
        "3. x & 5\n",
        "4. x ! 5"
      ],
      "metadata": {
        "id": "5kXaHR4zuE6n"
      }
    },
    {
      "cell_type": "markdown",
      "source": [
        "정답: 2\n",
        "\n",
        "1. x는 5보다 작거나 같다\n",
        "3. x와 5의 비트 단위 AND 연산\n",
        "4. 잘못된 수식, !가 아닌 not을 사용해야 합니다.\n"
      ],
      "metadata": {
        "id": "AgutyZ6kuPx0"
      }
    },
    {
      "cell_type": "markdown",
      "source": [
        "<span style=\"font-size:80%\">[문제3]<br><br></span>\n",
        "```비교 연산자와 논리 연산자의 결과로 올바른 것을 모두 골라주세요```\n",
        "\n",
        "x = 10\n",
        "y = 20\n",
        "\n",
        "1. x == 10 or y == 10  결과 : False\n",
        "2. x >= 10 and y < 30  결과 : True\n",
        "3. not x == 10 결과 : False\n",
        "4. y != 20 or x != 10  결과 : True\n",
        "5. not y != 20 and x > 5  결과 : False"
      ],
      "metadata": {
        "id": "B5q94eU_uUIu"
      }
    },
    {
      "cell_type": "markdown",
      "source": [
        "정답: 2, 3\n",
        "\n",
        "1. x == 10 은 True, y == 0 은 False / or 연산자는 1개라도 True 값이면 전체가 True 로 나옴으로 결과 값은 True 입니다. 오답입니다.\n",
        "\n",
        "2. x >= 10 은 True, y < 30 은 True / and 연산자는 둘다 True 값일때 결과값이 True 임으로 정답입니다.\n",
        "\n",
        "3. x == 10 은 True, not True는 False 임으로 정답입니다.\n",
        "\n",
        "4. y != 20 은 False, x != 10 은 False / or 연산자는 둘다 False 값이면 결과값이 False 입니다. 오답입니다.\n",
        "\n",
        "5. not y !=20 은 True, x > 5 은 True / and 연산자는 둘 다 True 값일 경우 결과값도 True 입니다. 오답입니다.\n"
      ],
      "metadata": {
        "id": "xem2xnXPubDK"
      }
    },
    {
      "cell_type": "markdown",
      "source": [
        "<span style=\"font-size:80%\">[문제4]<br><br></span>\n",
        "```'치맥' and True의 결과로 올바른 것을 골라주세요```\n",
        "\n",
        "1. False\n",
        "2. 아묻따\n",
        "3. True\n",
        "4. 치맥True"
      ],
      "metadata": {
        "id": "xQl9E_aEuf_-"
      }
    },
    {
      "cell_type": "code",
      "source": [
        "정답: 3\n",
        "\n",
        "and연산자는 두개의 값이 모두 True일때 결과값이 True 입니다.\n",
        "'치맥' 은 문자열이고, 모든 문자열은 True값으로 평가 됩니다."
      ],
      "metadata": {
        "id": "HywgJuWAutAp"
      },
      "execution_count": null,
      "outputs": []
    },
    {
      "cell_type": "markdown",
      "source": [
        "<span style=\"font-size:80%\">[문제5]<br><br></span>\n",
        "```논리 연산의 결과를 뒤집는 연산자를 골라주세요```\n",
        "\n",
        "1. is not\n",
        "2. not\n",
        "3. !=\n",
        "4. end\n",
        "5. and\n",
        "6. or"
      ],
      "metadata": {
        "id": "DcAjer_UuuGO"
      }
    },
    {
      "cell_type": "code",
      "source": [
        "정답: 2\n",
        "\n",
        "1. x is not y : 두 객체가 동일하지 않음을 확인하는 연산자\n",
        "2. not Ture False / not False True : 논리 연산의 결과를 반대로 뒤집음\n",
        "3. x != y : 두 값이 같지 않음을 확인하는 비교 연산자\n",
        "4. 존재하지 않는 연산자\n",
        "5. True and True True : 두 조건이 모두 True 일때 True 반환\n",
        "6. False or True True : 두 조건 중 하나라도 True면 True 반환"
      ],
      "metadata": {
        "id": "u0debZx9uwtX"
      },
      "execution_count": null,
      "outputs": []
    }
  ]
}