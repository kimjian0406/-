{
  "nbformat": 4,
  "nbformat_minor": 0,
  "metadata": {
    "colab": {
      "provenance": [],
      "authorship_tag": "ABX9TyPTFjXVyC8+XLWMbLZpMXFk",
      "include_colab_link": true
    },
    "kernelspec": {
      "name": "python3",
      "display_name": "Python 3"
    },
    "language_info": {
      "name": "python"
    }
  },
  "cells": [
    {
      "cell_type": "markdown",
      "metadata": {
        "id": "view-in-github",
        "colab_type": "text"
      },
      "source": [
        "<a href=\"https://colab.research.google.com/github/kimjian0406/-/blob/main/%EA%B3%BC%EC%A0%9C_5.ipynb\" target=\"_parent\"><img src=\"https://colab.research.google.com/assets/colab-badge.svg\" alt=\"Open In Colab\"/></a>"
      ]
    },
    {
      "cell_type": "markdown",
      "source": [
        "<span style=\"font-size:80%\">[문제1]<br><br></span>\n",
        "```Python으로 변수를 생성하는 방법으로 올바른 것을 고르세요```\n",
        "\n",
        "1. number == 20\n",
        "2. 100 == number\n",
        "3. number(7)\n",
        "4. number = 7"
      ],
      "metadata": {
        "id": "3sfnk1HPrC2-"
      }
    },
    {
      "cell_type": "code",
      "source": [
        "4"
      ],
      "metadata": {
        "colab": {
          "base_uri": "https://localhost:8080/"
        },
        "id": "MiahrIntrFZF",
        "outputId": "6986bb11-fb4f-414d-c9dc-9f2a7607b588"
      },
      "execution_count": 1,
      "outputs": [
        {
          "output_type": "execute_result",
          "data": {
            "text/plain": [
              "4"
            ]
          },
          "metadata": {},
          "execution_count": 1
        }
      ]
    },
    {
      "cell_type": "markdown",
      "source": [
        "<span style=\"font-size:80%\">[문제2]<br><br></span>\n",
        "```다음 중 올바르지 않은 것을 골라주세요```\n",
        "\n",
        "이름 = \"김오즈\"<br>\n",
        "나이 = 14<br>\n",
        "소속 = \"마법중\"<br>\n",
        "등급 = 3<br>\n",
        "\n",
        "1. 이름 + 소속\n",
        "2. 나이 + 등급\n",
        "3. 소속 + 등급"
      ],
      "metadata": {
        "id": "Pw0tJRfUrMZp"
      }
    },
    {
      "cell_type": "code",
      "source": [
        "3"
      ],
      "metadata": {
        "colab": {
          "base_uri": "https://localhost:8080/"
        },
        "id": "i9NSr64-rQkd",
        "outputId": "08217359-e20c-4e2a-e24a-9ef9b6c9904c"
      },
      "execution_count": 2,
      "outputs": [
        {
          "output_type": "execute_result",
          "data": {
            "text/plain": [
              "3"
            ]
          },
          "metadata": {},
          "execution_count": 2
        }
      ]
    },
    {
      "cell_type": "markdown",
      "source": [
        "<span style=\"font-size:80%\">[문제3]<br><br></span>\n",
        "```아래 변수의 type으로 올바른것을 골라주세요```\n",
        "\n",
        "퀴즈 = \"스페인에서 카리나를 보고 하는 말은?\"<br>\n",
        "type(퀴즈)"
      ],
      "metadata": {
        "id": "tBXJUBA_rTae"
      }
    },
    {
      "cell_type": "code",
      "source": [
        "str"
      ],
      "metadata": {
        "colab": {
          "base_uri": "https://localhost:8080/"
        },
        "id": "Eogfd5zprV8f",
        "outputId": "105138cf-e53f-4e16-97d8-681ffe299b4f"
      },
      "execution_count": 3,
      "outputs": [
        {
          "output_type": "execute_result",
          "data": {
            "text/plain": [
              "str"
            ]
          },
          "metadata": {},
          "execution_count": 3
        }
      ]
    },
    {
      "cell_type": "markdown",
      "source": [
        "<span style=\"font-size:80%\">[문제4]<br><br></span>\n",
        "```다음 중 변수 이름으로 사용할 수 없는 것을 모두 골라주세요```\n",
        "\n",
        "1. 78abc\n",
        "2. ABC\n",
        "3. _ABC\n",
        "4. _hello%2\n",
        "5. for"
      ],
      "metadata": {
        "id": "fDPQ0yrwrZqF"
      }
    },
    {
      "cell_type": "code",
      "source": [
        "1,4,5"
      ],
      "metadata": {
        "colab": {
          "base_uri": "https://localhost:8080/"
        },
        "id": "1VgxKX-xrcaq",
        "outputId": "259eb5ef-7d70-4602-d8a3-20f8b6cc435c"
      },
      "execution_count": 4,
      "outputs": [
        {
          "output_type": "execute_result",
          "data": {
            "text/plain": [
              "(1, 4, 5)"
            ]
          },
          "metadata": {},
          "execution_count": 4
        }
      ]
    },
    {
      "cell_type": "markdown",
      "source": [
        "<span style=\"font-size:80%\">[문제5]<br><br></span>\n",
        "```다음 중 변수와 연산자의 사용 방법으로 올바르지 않은 것을 모두 골라주세요```\n",
        "\n",
        "x = 3\n",
        "y = 7\n",
        "\n",
        "1. x = x + y\n",
        "2. x // 2\n",
        "3. z >< x\n",
        "4. y += x\n",
        "5. ++x"
      ],
      "metadata": {
        "id": "yDwqw92mrgqh"
      }
    },
    {
      "cell_type": "code",
      "source": [
        "3,5"
      ],
      "metadata": {
        "colab": {
          "base_uri": "https://localhost:8080/"
        },
        "id": "kKdnBfF4rjVJ",
        "outputId": "a0a9aad6-d21c-4f1b-f647-8fe64e5c87b8"
      },
      "execution_count": 5,
      "outputs": [
        {
          "output_type": "execute_result",
          "data": {
            "text/plain": [
              "(3, 5)"
            ]
          },
          "metadata": {},
          "execution_count": 5
        }
      ]
    }
  ]
}